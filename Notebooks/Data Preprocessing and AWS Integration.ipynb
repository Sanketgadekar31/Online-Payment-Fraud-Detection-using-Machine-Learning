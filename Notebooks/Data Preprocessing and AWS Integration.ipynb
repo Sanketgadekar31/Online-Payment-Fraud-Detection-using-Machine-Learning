{
 "cells": [
  {
   "cell_type": "markdown",
   "metadata": {},
   "source": [
    "Sanket Gadekar (Infosys: AI Intern)"
   ]
  },
  {
   "cell_type": "markdown",
   "metadata": {},
   "source": [
    "## MILESTONE 1: Data Preprocessing and AWS Integration"
   ]
  },
  {
   "cell_type": "markdown",
   "metadata": {},
   "source": [
    "# A. Data Preprocessing"
   ]
  },
  {
   "cell_type": "markdown",
   "metadata": {},
   "source": [
    "### Importing Libraries"
   ]
  },
  {
   "cell_type": "code",
   "execution_count": 31,
   "metadata": {},
   "outputs": [],
   "source": [
    "import pandas as pd\n",
    "import numpy as np\n",
    "import matplotlib.pyplot as plt\n",
    "import seaborn as sns"
   ]
  },
  {
   "cell_type": "markdown",
   "metadata": {},
   "source": [
    "### Loading Dataset"
   ]
  },
  {
   "cell_type": "code",
   "execution_count": 32,
   "metadata": {},
   "outputs": [],
   "source": [
    "file = 'Online_Payment_Raw_Dataset.csv'\n",
    "df = pd.read_csv(file)"
   ]
  },
  {
   "cell_type": "code",
   "execution_count": 33,
   "metadata": {},
   "outputs": [
    {
     "data": {
      "text/plain": [
       "(16426, 11)"
      ]
     },
     "execution_count": 33,
     "metadata": {},
     "output_type": "execute_result"
    }
   ],
   "source": [
    "df.shape"
   ]
  },
  {
   "cell_type": "markdown",
   "metadata": {},
   "source": [
    "### Display Dataframe"
   ]
  },
  {
   "cell_type": "code",
   "execution_count": 34,
   "metadata": {},
   "outputs": [
    {
     "data": {
      "text/html": [
       "<div>\n",
       "<style scoped>\n",
       "    .dataframe tbody tr th:only-of-type {\n",
       "        vertical-align: middle;\n",
       "    }\n",
       "\n",
       "    .dataframe tbody tr th {\n",
       "        vertical-align: top;\n",
       "    }\n",
       "\n",
       "    .dataframe thead th {\n",
       "        text-align: right;\n",
       "    }\n",
       "</style>\n",
       "<table border=\"1\" class=\"dataframe\">\n",
       "  <thead>\n",
       "    <tr style=\"text-align: right;\">\n",
       "      <th></th>\n",
       "      <th>step</th>\n",
       "      <th>type</th>\n",
       "      <th>amount</th>\n",
       "      <th>nameOrig</th>\n",
       "      <th>oldbalanceOrg</th>\n",
       "      <th>newbalanceOrig</th>\n",
       "      <th>nameDest</th>\n",
       "      <th>oldbalanceDest</th>\n",
       "      <th>newbalanceDest</th>\n",
       "      <th>isFraud</th>\n",
       "      <th>isFlaggedFraud</th>\n",
       "    </tr>\n",
       "  </thead>\n",
       "  <tbody>\n",
       "    <tr>\n",
       "      <th>0</th>\n",
       "      <td>288</td>\n",
       "      <td>CASH_OUT</td>\n",
       "      <td>722832.95</td>\n",
       "      <td>C707039983</td>\n",
       "      <td>722832.95</td>\n",
       "      <td>0.00</td>\n",
       "      <td>C100431989</td>\n",
       "      <td>0.00</td>\n",
       "      <td>722832.95</td>\n",
       "      <td>1</td>\n",
       "      <td>0</td>\n",
       "    </tr>\n",
       "    <tr>\n",
       "      <th>1</th>\n",
       "      <td>10</td>\n",
       "      <td>CASH_OUT</td>\n",
       "      <td>228264.60</td>\n",
       "      <td>C1522207806</td>\n",
       "      <td>0.00</td>\n",
       "      <td>0.00</td>\n",
       "      <td>C748261222</td>\n",
       "      <td>643390.26</td>\n",
       "      <td>871654.86</td>\n",
       "      <td>0</td>\n",
       "      <td>0</td>\n",
       "    </tr>\n",
       "    <tr>\n",
       "      <th>2</th>\n",
       "      <td>352</td>\n",
       "      <td>CASH_OUT</td>\n",
       "      <td>249222.80</td>\n",
       "      <td>C335496248</td>\n",
       "      <td>19198.00</td>\n",
       "      <td>0.00</td>\n",
       "      <td>C907110125</td>\n",
       "      <td>906682.02</td>\n",
       "      <td>1155904.82</td>\n",
       "      <td>0</td>\n",
       "      <td>0</td>\n",
       "    </tr>\n",
       "    <tr>\n",
       "      <th>3</th>\n",
       "      <td>211</td>\n",
       "      <td>TRANSFER</td>\n",
       "      <td>55920.39</td>\n",
       "      <td>C588214650</td>\n",
       "      <td>55920.39</td>\n",
       "      <td>0.00</td>\n",
       "      <td>C1302604885</td>\n",
       "      <td>0.00</td>\n",
       "      <td>0.00</td>\n",
       "      <td>1</td>\n",
       "      <td>0</td>\n",
       "    </tr>\n",
       "    <tr>\n",
       "      <th>4</th>\n",
       "      <td>261</td>\n",
       "      <td>CASH_OUT</td>\n",
       "      <td>163353.64</td>\n",
       "      <td>C1415552520</td>\n",
       "      <td>163353.64</td>\n",
       "      <td>0.00</td>\n",
       "      <td>C1498741927</td>\n",
       "      <td>5100683.15</td>\n",
       "      <td>5264036.79</td>\n",
       "      <td>1</td>\n",
       "      <td>0</td>\n",
       "    </tr>\n",
       "    <tr>\n",
       "      <th>5</th>\n",
       "      <td>348</td>\n",
       "      <td>TRANSFER</td>\n",
       "      <td>914767.58</td>\n",
       "      <td>C1440212855</td>\n",
       "      <td>0.00</td>\n",
       "      <td>0.00</td>\n",
       "      <td>C144549863</td>\n",
       "      <td>1531661.49</td>\n",
       "      <td>2446429.07</td>\n",
       "      <td>0</td>\n",
       "      <td>0</td>\n",
       "    </tr>\n",
       "    <tr>\n",
       "      <th>6</th>\n",
       "      <td>148</td>\n",
       "      <td>TRANSFER</td>\n",
       "      <td>3733104.07</td>\n",
       "      <td>C492529807</td>\n",
       "      <td>3733104.07</td>\n",
       "      <td>0.00</td>\n",
       "      <td>C863881747</td>\n",
       "      <td>0.00</td>\n",
       "      <td>0.00</td>\n",
       "      <td>1</td>\n",
       "      <td>0</td>\n",
       "    </tr>\n",
       "    <tr>\n",
       "      <th>7</th>\n",
       "      <td>38</td>\n",
       "      <td>PAYMENT</td>\n",
       "      <td>14091.48</td>\n",
       "      <td>C364282560</td>\n",
       "      <td>12164.00</td>\n",
       "      <td>0.00</td>\n",
       "      <td>M27542436</td>\n",
       "      <td>0.00</td>\n",
       "      <td>0.00</td>\n",
       "      <td>0</td>\n",
       "      <td>0</td>\n",
       "    </tr>\n",
       "    <tr>\n",
       "      <th>8</th>\n",
       "      <td>306</td>\n",
       "      <td>PAYMENT</td>\n",
       "      <td>10275.97</td>\n",
       "      <td>C365569894</td>\n",
       "      <td>57594.74</td>\n",
       "      <td>47318.76</td>\n",
       "      <td>M1865584698</td>\n",
       "      <td>0.00</td>\n",
       "      <td>0.00</td>\n",
       "      <td>0</td>\n",
       "      <td>0</td>\n",
       "    </tr>\n",
       "    <tr>\n",
       "      <th>9</th>\n",
       "      <td>9</td>\n",
       "      <td>CASH_OUT</td>\n",
       "      <td>321045.95</td>\n",
       "      <td>C2108848465</td>\n",
       "      <td>571080.63</td>\n",
       "      <td>250034.68</td>\n",
       "      <td>C191891167</td>\n",
       "      <td>20437.00</td>\n",
       "      <td>549527.02</td>\n",
       "      <td>0</td>\n",
       "      <td>0</td>\n",
       "    </tr>\n",
       "  </tbody>\n",
       "</table>\n",
       "</div>"
      ],
      "text/plain": [
       "   step      type      amount     nameOrig  oldbalanceOrg  newbalanceOrig   \n",
       "0   288  CASH_OUT   722832.95   C707039983      722832.95            0.00  \\\n",
       "1    10  CASH_OUT   228264.60  C1522207806           0.00            0.00   \n",
       "2   352  CASH_OUT   249222.80   C335496248       19198.00            0.00   \n",
       "3   211  TRANSFER    55920.39   C588214650       55920.39            0.00   \n",
       "4   261  CASH_OUT   163353.64  C1415552520      163353.64            0.00   \n",
       "5   348  TRANSFER   914767.58  C1440212855           0.00            0.00   \n",
       "6   148  TRANSFER  3733104.07   C492529807     3733104.07            0.00   \n",
       "7    38   PAYMENT    14091.48   C364282560       12164.00            0.00   \n",
       "8   306   PAYMENT    10275.97   C365569894       57594.74        47318.76   \n",
       "9     9  CASH_OUT   321045.95  C2108848465      571080.63       250034.68   \n",
       "\n",
       "      nameDest  oldbalanceDest  newbalanceDest  isFraud  isFlaggedFraud  \n",
       "0   C100431989            0.00       722832.95        1               0  \n",
       "1   C748261222       643390.26       871654.86        0               0  \n",
       "2   C907110125       906682.02      1155904.82        0               0  \n",
       "3  C1302604885            0.00            0.00        1               0  \n",
       "4  C1498741927      5100683.15      5264036.79        1               0  \n",
       "5   C144549863      1531661.49      2446429.07        0               0  \n",
       "6   C863881747            0.00            0.00        1               0  \n",
       "7    M27542436            0.00            0.00        0               0  \n",
       "8  M1865584698            0.00            0.00        0               0  \n",
       "9   C191891167        20437.00       549527.02        0               0  "
      ]
     },
     "execution_count": 34,
     "metadata": {},
     "output_type": "execute_result"
    }
   ],
   "source": [
    "df.head(10)"
   ]
  },
  {
   "cell_type": "markdown",
   "metadata": {},
   "source": [
    "### Statistical Summary of Dataframe"
   ]
  },
  {
   "cell_type": "code",
   "execution_count": 35,
   "metadata": {},
   "outputs": [
    {
     "name": "stdout",
     "output_type": "stream",
     "text": [
      "<class 'pandas.core.frame.DataFrame'>\n",
      "RangeIndex: 16426 entries, 0 to 16425\n",
      "Data columns (total 11 columns):\n",
      " #   Column          Non-Null Count  Dtype  \n",
      "---  ------          --------------  -----  \n",
      " 0   step            16426 non-null  int64  \n",
      " 1   type            16426 non-null  object \n",
      " 2   amount          16426 non-null  float64\n",
      " 3   nameOrig        16426 non-null  object \n",
      " 4   oldbalanceOrg   16426 non-null  float64\n",
      " 5   newbalanceOrig  16426 non-null  float64\n",
      " 6   nameDest        16426 non-null  object \n",
      " 7   oldbalanceDest  16426 non-null  float64\n",
      " 8   newbalanceDest  16426 non-null  float64\n",
      " 9   isFraud         16426 non-null  int64  \n",
      " 10  isFlaggedFraud  16426 non-null  int64  \n",
      "dtypes: float64(5), int64(3), object(3)\n",
      "memory usage: 1.4+ MB\n"
     ]
    }
   ],
   "source": [
    "df.info()"
   ]
  },
  {
   "cell_type": "code",
   "execution_count": 36,
   "metadata": {},
   "outputs": [
    {
     "data": {
      "text/html": [
       "<div>\n",
       "<style scoped>\n",
       "    .dataframe tbody tr th:only-of-type {\n",
       "        vertical-align: middle;\n",
       "    }\n",
       "\n",
       "    .dataframe tbody tr th {\n",
       "        vertical-align: top;\n",
       "    }\n",
       "\n",
       "    .dataframe thead th {\n",
       "        text-align: right;\n",
       "    }\n",
       "</style>\n",
       "<table border=\"1\" class=\"dataframe\">\n",
       "  <thead>\n",
       "    <tr style=\"text-align: right;\">\n",
       "      <th></th>\n",
       "      <th>step</th>\n",
       "      <th>amount</th>\n",
       "      <th>oldbalanceOrg</th>\n",
       "      <th>newbalanceOrig</th>\n",
       "      <th>oldbalanceDest</th>\n",
       "      <th>newbalanceDest</th>\n",
       "      <th>isFraud</th>\n",
       "      <th>isFlaggedFraud</th>\n",
       "    </tr>\n",
       "  </thead>\n",
       "  <tbody>\n",
       "    <tr>\n",
       "      <th>count</th>\n",
       "      <td>16426.000000</td>\n",
       "      <td>1.642600e+04</td>\n",
       "      <td>1.642600e+04</td>\n",
       "      <td>1.642600e+04</td>\n",
       "      <td>1.642600e+04</td>\n",
       "      <td>1.642600e+04</td>\n",
       "      <td>16426.000000</td>\n",
       "      <td>16426.000000</td>\n",
       "    </tr>\n",
       "    <tr>\n",
       "      <th>mean</th>\n",
       "      <td>305.583222</td>\n",
       "      <td>8.235107e+05</td>\n",
       "      <td>1.236681e+06</td>\n",
       "      <td>5.189730e+05</td>\n",
       "      <td>8.197630e+05</td>\n",
       "      <td>1.249162e+06</td>\n",
       "      <td>0.500000</td>\n",
       "      <td>0.000974</td>\n",
       "    </tr>\n",
       "    <tr>\n",
       "      <th>std</th>\n",
       "      <td>193.895534</td>\n",
       "      <td>1.861568e+06</td>\n",
       "      <td>3.270866e+06</td>\n",
       "      <td>2.525610e+06</td>\n",
       "      <td>3.802480e+06</td>\n",
       "      <td>4.164575e+06</td>\n",
       "      <td>0.500015</td>\n",
       "      <td>0.031196</td>\n",
       "    </tr>\n",
       "    <tr>\n",
       "      <th>min</th>\n",
       "      <td>1.000000</td>\n",
       "      <td>0.000000e+00</td>\n",
       "      <td>0.000000e+00</td>\n",
       "      <td>0.000000e+00</td>\n",
       "      <td>0.000000e+00</td>\n",
       "      <td>0.000000e+00</td>\n",
       "      <td>0.000000</td>\n",
       "      <td>0.000000</td>\n",
       "    </tr>\n",
       "    <tr>\n",
       "      <th>25%</th>\n",
       "      <td>161.000000</td>\n",
       "      <td>3.684810e+04</td>\n",
       "      <td>1.078750e+04</td>\n",
       "      <td>0.000000e+00</td>\n",
       "      <td>0.000000e+00</td>\n",
       "      <td>0.000000e+00</td>\n",
       "      <td>0.000000</td>\n",
       "      <td>0.000000</td>\n",
       "    </tr>\n",
       "    <tr>\n",
       "      <th>50%</th>\n",
       "      <td>282.000000</td>\n",
       "      <td>1.684456e+05</td>\n",
       "      <td>1.150297e+05</td>\n",
       "      <td>0.000000e+00</td>\n",
       "      <td>0.000000e+00</td>\n",
       "      <td>1.180377e+05</td>\n",
       "      <td>0.500000</td>\n",
       "      <td>0.000000</td>\n",
       "    </tr>\n",
       "    <tr>\n",
       "      <th>75%</th>\n",
       "      <td>409.000000</td>\n",
       "      <td>5.422141e+05</td>\n",
       "      <td>7.865499e+05</td>\n",
       "      <td>0.000000e+00</td>\n",
       "      <td>4.959398e+05</td>\n",
       "      <td>1.054824e+06</td>\n",
       "      <td>1.000000</td>\n",
       "      <td>0.000000</td>\n",
       "    </tr>\n",
       "    <tr>\n",
       "      <th>max</th>\n",
       "      <td>743.000000</td>\n",
       "      <td>2.636443e+07</td>\n",
       "      <td>5.958504e+07</td>\n",
       "      <td>4.958504e+07</td>\n",
       "      <td>2.362305e+08</td>\n",
       "      <td>2.367265e+08</td>\n",
       "      <td>1.000000</td>\n",
       "      <td>1.000000</td>\n",
       "    </tr>\n",
       "  </tbody>\n",
       "</table>\n",
       "</div>"
      ],
      "text/plain": [
       "               step        amount  oldbalanceOrg  newbalanceOrig   \n",
       "count  16426.000000  1.642600e+04   1.642600e+04    1.642600e+04  \\\n",
       "mean     305.583222  8.235107e+05   1.236681e+06    5.189730e+05   \n",
       "std      193.895534  1.861568e+06   3.270866e+06    2.525610e+06   \n",
       "min        1.000000  0.000000e+00   0.000000e+00    0.000000e+00   \n",
       "25%      161.000000  3.684810e+04   1.078750e+04    0.000000e+00   \n",
       "50%      282.000000  1.684456e+05   1.150297e+05    0.000000e+00   \n",
       "75%      409.000000  5.422141e+05   7.865499e+05    0.000000e+00   \n",
       "max      743.000000  2.636443e+07   5.958504e+07    4.958504e+07   \n",
       "\n",
       "       oldbalanceDest  newbalanceDest       isFraud  isFlaggedFraud  \n",
       "count    1.642600e+04    1.642600e+04  16426.000000    16426.000000  \n",
       "mean     8.197630e+05    1.249162e+06      0.500000        0.000974  \n",
       "std      3.802480e+06    4.164575e+06      0.500015        0.031196  \n",
       "min      0.000000e+00    0.000000e+00      0.000000        0.000000  \n",
       "25%      0.000000e+00    0.000000e+00      0.000000        0.000000  \n",
       "50%      0.000000e+00    1.180377e+05      0.500000        0.000000  \n",
       "75%      4.959398e+05    1.054824e+06      1.000000        0.000000  \n",
       "max      2.362305e+08    2.367265e+08      1.000000        1.000000  "
      ]
     },
     "execution_count": 36,
     "metadata": {},
     "output_type": "execute_result"
    }
   ],
   "source": [
    "df.describe()"
   ]
  },
  {
   "cell_type": "markdown",
   "metadata": {},
   "source": [
    "### Handle duplicate values"
   ]
  },
  {
   "cell_type": "code",
   "execution_count": 37,
   "metadata": {},
   "outputs": [
    {
     "name": "stdout",
     "output_type": "stream",
     "text": [
      "Duplicates: 0\n"
     ]
    }
   ],
   "source": [
    "# Check for duplicate rows\n",
    "duplicates = df.duplicated().sum()\n",
    "print(f\"Duplicates: {duplicates}\")"
   ]
  },
  {
   "cell_type": "code",
   "execution_count": 38,
   "metadata": {},
   "outputs": [],
   "source": [
    "# if duplicates found then use:\n",
    "# df = df.drop_duplicates()"
   ]
  },
  {
   "cell_type": "markdown",
   "metadata": {},
   "source": [
    "### Check for Missing Values"
   ]
  },
  {
   "cell_type": "code",
   "execution_count": 39,
   "metadata": {},
   "outputs": [
    {
     "name": "stdout",
     "output_type": "stream",
     "text": [
      "step              0\n",
      "type              0\n",
      "amount            0\n",
      "nameOrig          0\n",
      "oldbalanceOrg     0\n",
      "newbalanceOrig    0\n",
      "nameDest          0\n",
      "oldbalanceDest    0\n",
      "newbalanceDest    0\n",
      "isFraud           0\n",
      "isFlaggedFraud    0\n",
      "dtype: int64\n"
     ]
    }
   ],
   "source": [
    "null_values = df.isnull().sum()\n",
    "print(null_values)"
   ]
  },
  {
   "cell_type": "code",
   "execution_count": 40,
   "metadata": {},
   "outputs": [],
   "source": [
    "# If there any null values your can drop thoes rows by using:\n",
    "# df = df.dropna()"
   ]
  },
  {
   "cell_type": "markdown",
   "metadata": {},
   "source": [
    "### Visual representation for Types of Transaction"
   ]
  },
  {
   "cell_type": "code",
   "execution_count": 41,
   "metadata": {},
   "outputs": [
    {
     "data": {
      "image/png": "[encoded data removed]",
      "text/plain": [
       "<Figure size 1000x600 with 1 Axes>"
      ]
     },
     "metadata": {},
     "output_type": "display_data"
    }
   ],
   "source": [
    "# Count for each transaction type\n",
    "type_counts = df['type'].value_counts()\n",
    "\n",
    "# Plot the graph\n",
    "plt.figure(figsize=(10, 6))\n",
    "type_counts.plot(kind='bar', color='red')\n",
    "plt.title('Transaction Types and their Count')\n",
    "plt.xlabel('Type of Transaction')\n",
    "plt.ylabel('Count')\n",
    "plt.xticks(rotation=45)\n",
    "plt.grid(axis='y', linestyle='--', alpha=0.7)\n",
    "plt.show()"
   ]
  },
  {
   "cell_type": "markdown",
   "metadata": {},
   "source": [
    "### Finding the correlation using Heatmap"
   ]
  },
  {
   "cell_type": "code",
   "execution_count": 42,
   "metadata": {},
   "outputs": [
    {
     "data": {
      "image/png": "[encoded data removed]",
      "text/plain": [
       "<Figure size 1200x600 with 2 Axes>"
      ]
     },
     "metadata": {},
     "output_type": "display_data"
    }
   ],
   "source": [
    "numeric_data = df.select_dtypes(include=np.number)\n",
    "\n",
    "plt.figure(figsize=(12, 6))\n",
    "sns.heatmap(numeric_data.corr(),\n",
    "            cmap='coolwarm',\n",
    "            fmt='.2f',\n",
    "            linewidths=2,\n",
    "            annot=True)\n",
    "plt.show()"
   ]
  },
  {
   "cell_type": "markdown",
   "metadata": {},
   "source": [
    "With a heatmap, we can quickly spot clusters of highly correlated variables and drop them for ease of model training and data overloading."
   ]
  },
  {
   "cell_type": "markdown",
   "metadata": {},
   "source": [
    "### Deleting Unnecessary / Redundant Columns"
   ]
  },
  {
   "cell_type": "code",
   "execution_count": 43,
   "metadata": {},
   "outputs": [],
   "source": [
    "columns_to_drop = ['step', 'nameOrig', 'nameDest', 'oldbalanceDest', 'newbalanceDest', 'isFlaggedFraud']\n",
    "df = df.drop(columns=columns_to_drop)"
   ]
  },
  {
   "cell_type": "code",
   "execution_count": 44,
   "metadata": {},
   "outputs": [
    {
     "data": {
      "text/html": [
       "<div>\n",
       "<style scoped>\n",
       "    .dataframe tbody tr th:only-of-type {\n",
       "        vertical-align: middle;\n",
       "    }\n",
       "\n",
       "    .dataframe tbody tr th {\n",
       "        vertical-align: top;\n",
       "    }\n",
       "\n",
       "    .dataframe thead th {\n",
       "        text-align: right;\n",
       "    }\n",
       "</style>\n",
       "<table border=\"1\" class=\"dataframe\">\n",
       "  <thead>\n",
       "    <tr style=\"text-align: right;\">\n",
       "      <th></th>\n",
       "      <th>type</th>\n",
       "      <th>amount</th>\n",
       "      <th>oldbalanceOrg</th>\n",
       "      <th>newbalanceOrig</th>\n",
       "      <th>isFraud</th>\n",
       "    </tr>\n",
       "  </thead>\n",
       "  <tbody>\n",
       "    <tr>\n",
       "      <th>0</th>\n",
       "      <td>CASH_OUT</td>\n",
       "      <td>722832.95</td>\n",
       "      <td>722832.95</td>\n",
       "      <td>0.00</td>\n",
       "      <td>1</td>\n",
       "    </tr>\n",
       "    <tr>\n",
       "      <th>1</th>\n",
       "      <td>CASH_OUT</td>\n",
       "      <td>228264.60</td>\n",
       "      <td>0.00</td>\n",
       "      <td>0.00</td>\n",
       "      <td>0</td>\n",
       "    </tr>\n",
       "    <tr>\n",
       "      <th>2</th>\n",
       "      <td>CASH_OUT</td>\n",
       "      <td>249222.80</td>\n",
       "      <td>19198.00</td>\n",
       "      <td>0.00</td>\n",
       "      <td>0</td>\n",
       "    </tr>\n",
       "    <tr>\n",
       "      <th>3</th>\n",
       "      <td>TRANSFER</td>\n",
       "      <td>55920.39</td>\n",
       "      <td>55920.39</td>\n",
       "      <td>0.00</td>\n",
       "      <td>1</td>\n",
       "    </tr>\n",
       "    <tr>\n",
       "      <th>4</th>\n",
       "      <td>CASH_OUT</td>\n",
       "      <td>163353.64</td>\n",
       "      <td>163353.64</td>\n",
       "      <td>0.00</td>\n",
       "      <td>1</td>\n",
       "    </tr>\n",
       "    <tr>\n",
       "      <th>5</th>\n",
       "      <td>TRANSFER</td>\n",
       "      <td>914767.58</td>\n",
       "      <td>0.00</td>\n",
       "      <td>0.00</td>\n",
       "      <td>0</td>\n",
       "    </tr>\n",
       "    <tr>\n",
       "      <th>6</th>\n",
       "      <td>TRANSFER</td>\n",
       "      <td>3733104.07</td>\n",
       "      <td>3733104.07</td>\n",
       "      <td>0.00</td>\n",
       "      <td>1</td>\n",
       "    </tr>\n",
       "    <tr>\n",
       "      <th>7</th>\n",
       "      <td>PAYMENT</td>\n",
       "      <td>14091.48</td>\n",
       "      <td>12164.00</td>\n",
       "      <td>0.00</td>\n",
       "      <td>0</td>\n",
       "    </tr>\n",
       "    <tr>\n",
       "      <th>8</th>\n",
       "      <td>PAYMENT</td>\n",
       "      <td>10275.97</td>\n",
       "      <td>57594.74</td>\n",
       "      <td>47318.76</td>\n",
       "      <td>0</td>\n",
       "    </tr>\n",
       "    <tr>\n",
       "      <th>9</th>\n",
       "      <td>CASH_OUT</td>\n",
       "      <td>321045.95</td>\n",
       "      <td>571080.63</td>\n",
       "      <td>250034.68</td>\n",
       "      <td>0</td>\n",
       "    </tr>\n",
       "  </tbody>\n",
       "</table>\n",
       "</div>"
      ],
      "text/plain": [
       "       type      amount  oldbalanceOrg  newbalanceOrig  isFraud\n",
       "0  CASH_OUT   722832.95      722832.95            0.00        1\n",
       "1  CASH_OUT   228264.60           0.00            0.00        0\n",
       "2  CASH_OUT   249222.80       19198.00            0.00        0\n",
       "3  TRANSFER    55920.39       55920.39            0.00        1\n",
       "4  CASH_OUT   163353.64      163353.64            0.00        1\n",
       "5  TRANSFER   914767.58           0.00            0.00        0\n",
       "6  TRANSFER  3733104.07     3733104.07            0.00        1\n",
       "7   PAYMENT    14091.48       12164.00            0.00        0\n",
       "8   PAYMENT    10275.97       57594.74        47318.76        0\n",
       "9  CASH_OUT   321045.95      571080.63       250034.68        0"
      ]
     },
     "execution_count": 44,
     "metadata": {},
     "output_type": "execute_result"
    }
   ],
   "source": [
    "df.head(10)"
   ]
  },
  {
   "cell_type": "markdown",
   "metadata": {},
   "source": [
    "### Is Dataset Balanced?"
   ]
  },
  {
   "cell_type": "code",
   "execution_count": 45,
   "metadata": {},
   "outputs": [
    {
     "data": {
      "text/plain": [
       "isFraud\n",
       "1    8213\n",
       "0    8213\n",
       "Name: count, dtype: int64"
      ]
     },
     "execution_count": 45,
     "metadata": {},
     "output_type": "execute_result"
    }
   ],
   "source": [
    "df['isFraud'].value_counts()"
   ]
  },
  {
   "cell_type": "markdown",
   "metadata": {},
   "source": [
    "Yes, as the 'Fraudulant' and 'Non-Fraudulant' Value Count is same."
   ]
  },
  {
   "cell_type": "markdown",
   "metadata": {},
   "source": [
    "### Save the Final Dataset"
   ]
  },
  {
   "cell_type": "code",
   "execution_count": 46,
   "metadata": {},
   "outputs": [],
   "source": [
    "df.to_csv('Final_Cleaned_Dataset.csv', index=False)"
   ]
  },
  {
   "cell_type": "markdown",
   "metadata": {},
   "source": [
    "# B. Integration of AWS S3 Bucket"
   ]
  },
  {
   "cell_type": "markdown",
   "metadata": {},
   "source": [
    "### Initialize the Session using credentials"
   ]
  },
  {
   "cell_type": "code",
   "execution_count": 47,
   "metadata": {},
   "outputs": [],
   "source": [
    "import boto3\n",
    "\n",
    "session = boto3.Session(\n",
    "    aws_access_key_id='your_aws_access_key_id',\n",
    "    aws_secret_access_key='your_aws_secret_access_key++lx9PzOS4cAPDb',\n",
    "    region_name='your_region_name'\n",
    ")"
   ]
  },
  {
   "cell_type": "markdown",
   "metadata": {},
   "source": [
    "### Access s3 Resources"
   ]
  },
  {
   "cell_type": "code",
   "execution_count": 48,
   "metadata": {},
   "outputs": [],
   "source": [
    "s3 = session.resource('s3')"
   ]
  },
  {
   "cell_type": "markdown",
   "metadata": {},
   "source": [
    "### Define the Bucket"
   ]
  },
  {
   "cell_type": "code",
   "execution_count": 49,
   "metadata": {},
   "outputs": [],
   "source": [
    "bucket_name = 'online-fraud-detection-internship'\n",
    "bucket = s3.Bucket(bucket_name)"
   ]
  },
  {
   "cell_type": "markdown",
   "metadata": {},
   "source": [
    "### Upload the File to Bucket"
   ]
  },
  {
   "cell_type": "code",
   "execution_count": 50,
   "metadata": {},
   "outputs": [
    {
     "name": "stdout",
     "output_type": "stream",
     "text": [
      "Successfully uploaded Final_Cleaned_Dataset.csv to online-fraud-detection-internship/Sanket_Gadekar_Final_Dataset.csv\n"
     ]
    }
   ],
   "source": [
    "file_name = 'Final_Cleaned_Dataset.csv'                 # Path of local file\n",
    "s3_file_name = 'Sanket_Gadekar_Final_Dataset.csv'       # File Name Which will be used in Bucket\n",
    "\n",
    "try:\n",
    "    bucket.upload_file(file_name, s3_file_name)\n",
    "    print(f'Successfully uploaded {file_name} to {bucket_name}/{s3_file_name}')\n",
    "except Exception as e:\n",
    "    print(f'Error uploading file: {e}')"
   ]
  },
  {
   "cell_type": "markdown",
   "metadata": {},
   "source": [
    "### Check the Upload in Bucket by Listing Files"
   ]
  },
  {
   "cell_type": "code",
   "execution_count": null,
   "metadata": {},
   "outputs": [],
   "source": [
    "print(f'Files in bucket {bucket_name}:')\n",
    "for obj in bucket.objects.all():\n",
    "    print(obj.key)"
   ]
  },
  {
   "cell_type": "markdown",
   "metadata": {},
   "source": [
    "### Download our file from the Bucket"
   ]
  },
  {
   "cell_type": "code",
   "execution_count": 52,
   "metadata": {},
   "outputs": [
    {
     "name": "stdout",
     "output_type": "stream",
     "text": [
      "Successfully downloaded Sanket_Gadekar_Final_Dataset.csv to E:\\Sanket_Gadekar_Final_Dataset.csv\n"
     ]
    }
   ],
   "source": [
    "download_path = r'E:\\Sanket_Gadekar_Final_Dataset.csv'       # Location of download\n",
    "\n",
    "try:\n",
    "    bucket.download_file(s3_file_name, download_path)\n",
    "    print(f'Successfully downloaded {s3_file_name} to {download_path}')\n",
    "except Exception as e:\n",
    "    print(f'Error downloading file: {e}')"
   ]
  }
 ],
 "metadata": {
  "kernelspec": {
   "display_name": "base",
   "language": "python",
   "name": "python3"
  },
  "language_info": {
   "codemirror_mode": {
    "name": "ipython",
    "version": 3
   },
   "file_extension": ".py",
   "mimetype": "text/x-python",
   "name": "python",
   "nbconvert_exporter": "python",
   "pygments_lexer": "ipython3",
   "version": "3.11.5"
  }
 },
 "nbformat": 4,
 "nbformat_minor": 2
}
